{
 "cells": [
  {
   "cell_type": "markdown",
   "metadata": {},
   "source": [
    "# Text summarizing with ChaptGPT\n",
    "In this lesson, you will summarize text with a focus on specific topics.\n",
    "\n",
    "## Setup"
   ]
  },
  {
   "cell_type": "code",
   "execution_count": 1,
   "metadata": {
    "tags": []
   },
   "outputs": [],
   "source": [
    "from openai import OpenAI\n",
    "import os\n",
    "from dotenv import load_dotenv, find_dotenv\n",
    "\n",
    "# Load environment variables from the .env file\n",
    "load_dotenv(find_dotenv())\n",
    "\n",
    "# Access the API key using os.getenv\n",
    "openai_api_key = os.getenv(\"OPENAI_API_KEY\")"
   ]
  },
  {
   "cell_type": "code",
   "execution_count": 2,
   "metadata": {
    "tags": []
   },
   "outputs": [],
   "source": [
    "client = OpenAI(\n",
    "    # This is the default and can be omitted\n",
    "    api_key=openai_api_key,\n",
    ")\n",
    "\n",
    "\n",
    "def get_completion(prompt, model=\"gpt-3.5-turbo\"): # Andrew mentioned that the prompt/ completion paradigm is preferable for this class\n",
    "    messages = [{\"role\": \"user\", \"content\": prompt}]\n",
    "    response = client.chat.completions.create(\n",
    "        model=model,\n",
    "        messages=messages,\n",
    "        temperature=0, # this is the degree of randomness of the model's output\n",
    "    )\n",
    "    return response.choices[0].message.content\n"
   ]
  },
  {
   "cell_type": "markdown",
   "metadata": {},
   "source": [
    "## Text to summarize"
   ]
  },
  {
   "cell_type": "code",
   "execution_count": 3,
   "metadata": {
    "tags": []
   },
   "outputs": [],
   "source": [
    "prod_review = \"\"\"\n",
    "Got this panda plush toy for my daughter's birthday, \\\n",
    "who loves it and takes it everywhere. It's soft and \\ \n",
    "super cute, and its face has a friendly look. It's \\ \n",
    "a bit small for what I paid though. I think there \\ \n",
    "might be other options that are bigger for the \\ \n",
    "same price. It arrived a day earlier than expected, \\ \n",
    "so I got to play with it myself before I gave it \\ \n",
    "to her.\n",
    "\"\"\""
   ]
  },
  {
   "cell_type": "markdown",
   "metadata": {},
   "source": [
    "## Summarize with a word/sentence/character limit"
   ]
  },
  {
   "cell_type": "code",
   "execution_count": 4,
   "metadata": {
    "tags": []
   },
   "outputs": [
    {
     "name": "stdout",
     "output_type": "stream",
     "text": [
      "Summary: \n",
      "Soft and cute panda plush toy loved by daughter, but smaller than expected for the price. Arrived early, allowing for personal enjoyment before gifting.\n"
     ]
    }
   ],
   "source": [
    "prompt = f\"\"\"\n",
    "Your task is to generate a short summary of a product \\\n",
    "review from an ecommerce site. \n",
    "\n",
    "Summarize the review below, delimited by triple \n",
    "backticks, in at most 30 words. \n",
    "\n",
    "Review: ```{prod_review}```\n",
    "\"\"\"\n",
    "\n",
    "response = get_completion(prompt)\n",
    "print(response)\n"
   ]
  },
  {
   "cell_type": "markdown",
   "metadata": {},
   "source": [
    "## Summarize with a focus on shipping and delivery"
   ]
  },
  {
   "cell_type": "code",
   "execution_count": 5,
   "metadata": {
    "tags": []
   },
   "outputs": [
    {
     "name": "stdout",
     "output_type": "stream",
     "text": [
      "The customer was pleased with the early delivery of the panda plush toy, but felt it was slightly small for the price paid.\n"
     ]
    }
   ],
   "source": [
    "prompt = f\"\"\"\n",
    "Your task is to generate a short summary of a product \\\n",
    "review from an ecommerce site to give feedback to the \\\n",
    "Shipping deparmtment. \n",
    "\n",
    "Summarize the review below, delimited by triple \n",
    "backticks, in at most 30 words, and focusing on any aspects \\\n",
    "that mention shipping and delivery of the product. \n",
    "\n",
    "Review: ```{prod_review}```\n",
    "\"\"\"\n",
    "\n",
    "response = get_completion(prompt)\n",
    "print(response)\n"
   ]
  },
  {
   "cell_type": "markdown",
   "metadata": {},
   "source": [
    "## Summarize with a focus on price and value"
   ]
  },
  {
   "cell_type": "code",
   "execution_count": 6,
   "metadata": {
    "tags": []
   },
   "outputs": [
    {
     "name": "stdout",
     "output_type": "stream",
     "text": [
      "The panda plush toy is loved for its softness and cuteness, but some customers feel it's a bit small for the price.\n"
     ]
    }
   ],
   "source": [
    "prompt = f\"\"\"\n",
    "Your task is to generate a short summary of a product \\\n",
    "review from an ecommerce site to give feedback to the \\\n",
    "pricing deparmtment, responsible for determining the \\\n",
    "price of the product.  \n",
    "\n",
    "Summarize the review below, delimited by triple \n",
    "backticks, in at most 30 words, and focusing on any aspects \\\n",
    "that are relevant to the price and perceived value. \n",
    "\n",
    "Review: ```{prod_review}```\n",
    "\"\"\"\n",
    "\n",
    "response = get_completion(prompt)\n",
    "print(response)\n"
   ]
  },
  {
   "cell_type": "markdown",
   "metadata": {},
   "source": [
    "#### Comment\n",
    "- Summaries include topics that are not related to the topic of focus."
   ]
  },
  {
   "cell_type": "markdown",
   "metadata": {},
   "source": [
    "## Try \"extract\" instead of \"summarize\""
   ]
  },
  {
   "cell_type": "code",
   "execution_count": 7,
   "metadata": {
    "tags": []
   },
   "outputs": [
    {
     "name": "stdout",
     "output_type": "stream",
     "text": [
      "Feedback: The product arrived a day earlier than expected, which was a pleasant surprise. Customers may prefer larger options for the same price.\n"
     ]
    }
   ],
   "source": [
    "prompt = f\"\"\"\n",
    "Your task is to extract relevant information from \\ \n",
    "a product review from an ecommerce site to give \\\n",
    "feedback to the Shipping department. \n",
    "\n",
    "From the review below, delimited by triple quotes \\\n",
    "extract the information relevant to shipping and \\ \n",
    "delivery. Limit to 30 words. \n",
    "\n",
    "Review: ```{prod_review}```\n",
    "\"\"\"\n",
    "\n",
    "response = get_completion(prompt)\n",
    "print(response)"
   ]
  },
  {
   "cell_type": "markdown",
   "metadata": {},
   "source": [
    "## Summarize multiple product reviews"
   ]
  },
  {
   "cell_type": "code",
   "execution_count": 8,
   "metadata": {
    "tags": []
   },
   "outputs": [],
   "source": [
    "\n",
    "review_1 = prod_review \n",
    "\n",
    "# review for a standing lamp\n",
    "review_2 = \"\"\"\n",
    "Needed a nice lamp for my bedroom, and this one \\\n",
    "had additional storage and not too high of a price \\\n",
    "point. Got it fast - arrived in 2 days. The string \\\n",
    "to the lamp broke during the transit and the company \\\n",
    "happily sent over a new one. Came within a few days \\\n",
    "as well. It was easy to put together. Then I had a \\\n",
    "missing part, so I contacted their support and they \\\n",
    "very quickly got me the missing piece! Seems to me \\\n",
    "to be a great company that cares about their customers \\\n",
    "and products. \n",
    "\"\"\"\n",
    "\n",
    "# review for an electric toothbrush\n",
    "review_3 = \"\"\"\n",
    "My dental hygienist recommended an electric toothbrush, \\\n",
    "which is why I got this. The battery life seems to be \\\n",
    "pretty impressive so far. After initial charging and \\\n",
    "leaving the charger plugged in for the first week to \\\n",
    "condition the battery, I've unplugged the charger and \\\n",
    "been using it for twice daily brushing for the last \\\n",
    "3 weeks all on the same charge. But the toothbrush head \\\n",
    "is too small. I’ve seen baby toothbrushes bigger than \\\n",
    "this one. I wish the head was bigger with different \\\n",
    "length bristles to get between teeth better because \\\n",
    "this one doesn’t.  Overall if you can get this one \\\n",
    "around the $50 mark, it's a good deal. The manufactuer's \\\n",
    "replacements heads are pretty expensive, but you can \\\n",
    "get generic ones that're more reasonably priced. This \\\n",
    "toothbrush makes me feel like I've been to the dentist \\\n",
    "every day. My teeth feel sparkly clean! \n",
    "\"\"\"\n",
    "\n",
    "# review for a blender\n",
    "review_4 = \"\"\"\n",
    "So, they still had the 17 piece system on seasonal \\\n",
    "sale for around $49 in the month of November, about \\\n",
    "half off, but for some reason (call it price gouging) \\\n",
    "around the second week of December the prices all went \\\n",
    "up to about anywhere from between $70-$89 for the same \\\n",
    "system. And the 11 piece system went up around $10 or \\\n",
    "so in price also from the earlier sale price of $29. \\\n",
    "So it looks okay, but if you look at the base, the part \\\n",
    "where the blade locks into place doesn’t look as good \\\n",
    "as in previous editions from a few years ago, but I \\\n",
    "plan to be very gentle with it (example, I crush \\\n",
    "very hard items like beans, ice, rice, etc. in the \\ \n",
    "blender first then pulverize them in the serving size \\\n",
    "I want in the blender then switch to the whipping \\\n",
    "blade for a finer flour, and use the cross cutting blade \\\n",
    "first when making smoothies, then use the flat blade \\\n",
    "if I need them finer/less pulpy). Special tip when making \\\n",
    "smoothies, finely cut and freeze the fruits and \\\n",
    "vegetables (if using spinach-lightly stew soften the \\ \n",
    "spinach then freeze until ready for use-and if making \\\n",
    "sorbet, use a small to medium sized food processor) \\ \n",
    "that you plan to use that way you can avoid adding so \\\n",
    "much ice if at all-when making your smoothie. \\\n",
    "After about a year, the motor was making a funny noise. \\\n",
    "I called customer service but the warranty expired \\\n",
    "already, so I had to buy another one. FYI: The overall \\\n",
    "quality has gone done in these types of products, so \\\n",
    "they are kind of counting on brand recognition and \\\n",
    "consumer loyalty to maintain sales. Got it in about \\\n",
    "two days.\n",
    "\"\"\"\n",
    "\n",
    "reviews = [review_1, review_2, review_3, review_4]"
   ]
  },
  {
   "cell_type": "code",
   "execution_count": 9,
   "metadata": {
    "tags": []
   },
   "outputs": [
    {
     "name": "stdout",
     "output_type": "stream",
     "text": [
      "0 Summary: \n",
      "Cute panda plush toy loved by daughter, but small for price. Arrived early, soft and friendly-faced. \n",
      "\n",
      "1 ```\n",
      "Affordable lamp with storage, fast delivery, excellent customer service for missing parts. Great company that cares.\n",
      "``` \n",
      "\n",
      "2 Impressive battery life, small toothbrush head, good deal for $50, generic replacement heads available, leaves teeth feeling clean. \n",
      "\n",
      "3 17-piece system on sale for $49, quality decline, motor issue after a year, price increase, customer service, brand loyalty. \n",
      "\n"
     ]
    }
   ],
   "source": [
    "for i in range(len(reviews)):\n",
    "    prompt = f\"\"\"\n",
    "    Your task is to generate a short summary of a product \\ \n",
    "    review from an ecommerce site. \n",
    "\n",
    "    Summarize the review below, delimited by triple \\\n",
    "    backticks in at most 20 words. \n",
    "\n",
    "    Review: ```{reviews[i]}```\n",
    "    \"\"\"\n",
    "\n",
    "    response = get_completion(prompt)\n",
    "    print(i, response, \"\\n\")"
   ]
  },
  {
   "cell_type": "markdown",
   "metadata": {},
   "source": [
    "# Exercise\n",
    " - Complete the prompts similar to what we did in class. \n",
    "     - Try at least 3 versions\n",
    "     - Be creative\n",
    " - Write a one page report summarizing your findings.\n",
    "     - Were there variations that didn't work well? i.e., where GPT either hallucinated or wrong\n",
    " - What did you learn?"
   ]
  },
  {
   "cell_type": "code",
   "execution_count": 10,
   "metadata": {},
   "outputs": [
    {
     "name": "stdout",
     "output_type": "stream",
     "text": [
      "Version 1: Customer satisfaction and usability\n",
      "Summary: \n",
      "Soft and cute panda plush toy loved by daughter, arrived early. Small for price, but overall a hit.\n",
      "\n",
      "Version 2: Product features and quality\n",
      "Soft, cute panda plush toy loved by daughter, arrives early. Small for price, but friendly face and quality make it a hit.\n",
      "\n",
      "Version 3: Overall value and satisfaction\n",
      "Overall, the panda plush toy is adored by the recipient, soft, cute, and arrived early. However, the size may not justify the price.\n"
     ]
    }
   ],
   "source": [
    "# Sample product review\n",
    "prod_review = \"\"\"\n",
    "Got this panda plush toy for my daughter's birthday, \\\n",
    "who loves it and takes it everywhere. It's soft and \\\n",
    "super cute, and its face has a friendly look. It's a \\\n",
    "bit small for what I paid though. I think there \\\n",
    "might be other options that are bigger for the same price. \\\n",
    "It arrived a day earlier than expected, \\\n",
    "so I got to play with it myself before I gave it to her.\n",
    "\"\"\"\n",
    "\n",
    "# Prompt 1: Summarize focusing on customer satisfaction and usability\n",
    "prompt_1 = f\"\"\"\n",
    "Your task is to generate a short summary of a product \\\n",
    "review from an ecommerce site. \n",
    "\n",
    "Summarize the review below, delimited by triple backticks, \\\n",
    "in at most 30 words. \n",
    "\n",
    "Review: ```{prod_review}```\n",
    "\"\"\"\n",
    "\n",
    "# Prompt 2: Summarize focusing on product features and quality\n",
    "prompt_2 = f\"\"\"\n",
    "Your task is to generate a concise summary highlighting \\\n",
    "the features and quality of a product based on a review. \n",
    "\n",
    "Summarize the review below, delimited by triple backticks, \\\n",
    "in at most 30 words. \n",
    "\n",
    "Review: ```{prod_review}```\n",
    "\"\"\"\n",
    "\n",
    "# Prompt 3: Summarize focusing on overall value and satisfaction\n",
    "prompt_3 = f\"\"\"\n",
    "Your task is to generate a summary of a product review \\\n",
    "that emphasizes its overall value and customer satisfaction. \n",
    "\n",
    "Summarize the review below, delimited by triple backticks, \\\n",
    "in at most 30 words. \n",
    "\n",
    "Review: ```{prod_review}```\n",
    "\"\"\"\n",
    "\n",
    "# Generate summaries\n",
    "response_1 = get_completion(prompt_1)\n",
    "response_2 = get_completion(prompt_2)\n",
    "response_3 = get_completion(prompt_3)\n",
    "\n",
    "# Print summaries\n",
    "print(\"Version 1: Customer satisfaction and usability\")\n",
    "print(response_1)\n",
    "print(\"\\nVersion 2: Product features and quality\")\n",
    "print(response_2)\n",
    "print(\"\\nVersion 3: Overall value and satisfaction\")\n",
    "print(response_3)\n"
   ]
  },
  {
   "cell_type": "markdown",
   "metadata": {},
   "source": [
    "## **Report on Text summarizing with ChaptGPT**\n",
    "\n",
    "### **Introduction**\n",
    "\n",
    "In this report, we assess the effectiveness of OpenAI's GPT-3.5 model for summarizing product reviews from ecommerce sites. The goal was to evaluate the model's ability to accurately distill key information from varied reviews, focusing on aspects such as customer satisfaction, product features, and overall value.\n",
    "\n",
    "### **Methodology**\n",
    "\n",
    "We utilized the OpenAI API to interact with the GPT-3.5 model, providing prompts that directed it to summarize product reviews in a concise manner. Each review was encapsulated within triple backticks to denote the content to be summarized, with a maximum limit of 30 words per summary. \n",
    "\n",
    "### **Findings**\n",
    "\n",
    "1. **Successful Summarization:**\n",
    "   - The GPT-3.5 model generally excelled in summarizing reviews when prompts were clearly structured and focused. For instance, when asked to highlight customer satisfaction and usability, responses effectively captured sentiments such as \"loved by daughter\" and \"arrived early,\" reflecting positive user experiences.\n",
    "\n",
    "2. **Aspect-specific Summaries:**\n",
    "   - Different prompts targeting specific aspects (e.g., product features, quality, value) produced summaries that aligned well with the intended focus. This demonstrates the model's capability to adapt its output based on the guiding prompts provided.\n",
    "\n",
    "3. **Challenges and Variations:**\n",
    "   - **Hallucinations:** In some instances, the model produced summaries that included factual inaccuracies or details not present in the original review. For example, in attempting to summarize product features, the model occasionally added attributes that were not explicitly mentioned, possibly due to overgeneralization.\n",
    "   \n",
    "   - **Missed Nuances:** GPT-3.5 sometimes missed subtle nuances or context-specific details crucial for a comprehensive summary. This was noticeable when reviews contained mixed sentiments or specific technical specifications that were not adequately conveyed in the summaries.\n",
    "\n",
    "4. **Adaptation and Improvement:**\n",
    "   - Adjusting prompts to be more specific and detailed often mitigated the issues observed. By providing clearer instructions and constraints, such as limiting the scope of the summary to precise aspects (e.g., customer service experience, value for money), the model's performance improved significantly.\n",
    "\n",
    "### **Conclusion**\n",
    "\n",
    "OpenAI's GPT-3.5 model showcases strong potential for summarizing product reviews, offering effective summaries when prompts are tailored appropriately. While capable of generating concise and informative summaries across various review types, attention to prompt specificity is crucial to mitigate instances of hallucination or missing nuances. Further refinements in prompt design and model tuning could enhance its accuracy and applicability in diverse ecommerce settings.\n",
    "\n",
    "### **Recommendations**\n",
    "\n",
    "To optimize GPT-3.5's performance in product review summarization:\n",
    "- Use structured prompts that clearly outline the desired focus areas.\n",
    "- Implement post-processing checks to verify factual accuracy and relevance of generated summaries.\n",
    "- Consider domain-specific fine-tuning to better align with ecommerce-specific language and review nuances.\n",
    "\n",
    "Overall, GPT-3.5 represents a valuable tool for automating the summarization of product reviews, with potential for further enhancement through targeted improvements in prompt design and model adaptation."
   ]
  },
  {
   "cell_type": "markdown",
   "metadata": {},
   "source": [
    "## **What I have learned:**\n",
    "\n",
    "OpenAI's GPT-3.5 demonstrates strong capability in generating concise summaries of product reviews when provided with focused and well-structured prompts. It excels in capturing sentiments related to customer satisfaction, product features, and overall value. However, challenges such as occasional hallucinations and missed nuances highlight the importance of precise prompt formulation and careful review of generated summaries. Optimization through specific prompts and domain-specific fine-tuning can significantly enhance accuracy and applicability in ecommerce contexts."
   ]
  }
 ],
 "metadata": {
  "kernelspec": {
   "display_name": "Python 3 (ipykernel)",
   "language": "python",
   "name": "python3"
  },
  "language_info": {
   "codemirror_mode": {
    "name": "ipython",
    "version": 3
   },
   "file_extension": ".py",
   "mimetype": "text/x-python",
   "name": "python",
   "nbconvert_exporter": "python",
   "pygments_lexer": "ipython3",
   "version": "3.10.9"
  }
 },
 "nbformat": 4,
 "nbformat_minor": 4
}
